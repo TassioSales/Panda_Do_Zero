{
 "cells": [
  {
   "cell_type": "code",
   "execution_count": 11,
   "id": "d7a1b2d0-9a26-4ff8-995a-5ef51d737fc1",
   "metadata": {},
   "outputs": [],
   "source": [
    "import pandas as pd\n",
    "import numpy as np\n",
    "import sys"
   ]
  },
  {
   "cell_type": "code",
   "execution_count": 5,
   "id": "639c53ea-502f-47eb-a772-750db171b56f",
   "metadata": {},
   "outputs": [],
   "source": [
    "a = [1, 2, 3, 4, 5]\n",
    "b = np.array([1, 2, 3, 4, 5])"
   ]
  },
  {
   "cell_type": "code",
   "execution_count": 6,
   "id": "b39411a9-02f7-409e-83f3-4daf9ab41797",
   "metadata": {},
   "outputs": [
    {
     "name": "stdout",
     "output_type": "stream",
     "text": [
      "[1, 2, 3, 4, 5]\n",
      "[1 2 3 4 5]\n"
     ]
    }
   ],
   "source": [
    "print(a)\n",
    "print(b)"
   ]
  },
  {
   "cell_type": "code",
   "execution_count": 13,
   "id": "8491f061-2473-4690-b179-37b66a6b3081",
   "metadata": {},
   "outputs": [
    {
     "name": "stdout",
     "output_type": "stream",
     "text": [
      "120\n",
      "124\n"
     ]
    }
   ],
   "source": [
    "print(sys.getsizeof(a))\n",
    "print(sys.getsizeof(b))"
   ]
  },
  {
   "cell_type": "code",
   "execution_count": 14,
   "id": "fc8ae5c2-7230-45a4-9d43-b27a49681573",
   "metadata": {},
   "outputs": [
    {
     "name": "stdout",
     "output_type": "stream",
     "text": [
      "[1 2 3]\n"
     ]
    }
   ],
   "source": [
    "#Array 1D\n",
    "d1 = np.array([1, 2, 3])\n",
    "print(d1)"
   ]
  },
  {
   "cell_type": "code",
   "execution_count": 15,
   "id": "b445edf2-8cca-4ed3-a3f5-31b7e621fef0",
   "metadata": {},
   "outputs": [
    {
     "data": {
      "text/plain": [
       "(3,)"
      ]
     },
     "execution_count": 15,
     "metadata": {},
     "output_type": "execute_result"
    }
   ],
   "source": [
    "d1.shape"
   ]
  },
  {
   "cell_type": "code",
   "execution_count": 16,
   "id": "ff02bbf0-4237-471a-afdf-2437eb973c6e",
   "metadata": {},
   "outputs": [
    {
     "data": {
      "text/plain": [
       "1"
      ]
     },
     "execution_count": 16,
     "metadata": {},
     "output_type": "execute_result"
    }
   ],
   "source": [
    "d1.ndim"
   ]
  },
  {
   "cell_type": "code",
   "execution_count": 18,
   "id": "5f6152b0-ae34-4c96-b46a-d64eba7803fb",
   "metadata": {},
   "outputs": [
    {
     "data": {
      "text/plain": [
       "dtype('int32')"
      ]
     },
     "execution_count": 18,
     "metadata": {},
     "output_type": "execute_result"
    }
   ],
   "source": [
    "d1.dtype"
   ]
  },
  {
   "cell_type": "code",
   "execution_count": 21,
   "id": "98305855-36d4-4917-bfd2-b07b9a466187",
   "metadata": {},
   "outputs": [
    {
     "name": "stdout",
     "output_type": "stream",
     "text": [
      "[[1 2 3]\n",
      " [4 5 6]]\n"
     ]
    }
   ],
   "source": [
    "#Array 2D\n",
    "d2 = np.array([[1, 2, 3], [4, 5, 6 ]])\n",
    "print(d2)"
   ]
  },
  {
   "cell_type": "code",
   "execution_count": 23,
   "id": "80045898-35cf-443b-954e-ade655509b86",
   "metadata": {},
   "outputs": [
    {
     "data": {
      "text/plain": [
       "(2, 3)"
      ]
     },
     "execution_count": 23,
     "metadata": {},
     "output_type": "execute_result"
    }
   ],
   "source": [
    "d2.shape"
   ]
  },
  {
   "cell_type": "code",
   "execution_count": 24,
   "id": "f5e308ec-3319-45e0-9a9c-d07aa8363920",
   "metadata": {},
   "outputs": [
    {
     "data": {
      "text/plain": [
       "2"
      ]
     },
     "execution_count": 24,
     "metadata": {},
     "output_type": "execute_result"
    }
   ],
   "source": [
    "d2.ndim"
   ]
  },
  {
   "cell_type": "code",
   "execution_count": 25,
   "id": "a7f89a0c-a524-4852-a22f-831d0acd7883",
   "metadata": {},
   "outputs": [
    {
     "data": {
      "text/plain": [
       "dtype('int32')"
      ]
     },
     "execution_count": 25,
     "metadata": {},
     "output_type": "execute_result"
    }
   ],
   "source": [
    "d2.dtype"
   ]
  },
  {
   "cell_type": "code",
   "execution_count": 26,
   "id": "c384e6ee-6f8c-42ee-9b7e-3407abf6aa1f",
   "metadata": {},
   "outputs": [
    {
     "name": "stdout",
     "output_type": "stream",
     "text": [
      "[[[1 2]\n",
      "  [3 4]]\n",
      "\n",
      " [[5 6]\n",
      "  [7 8]]]\n"
     ]
    }
   ],
   "source": [
    "#array 3D\n",
    "d3 = np.array([[[1,2], [3,4]], [[5,6], [7,8]]])\n",
    "print(d3)"
   ]
  },
  {
   "cell_type": "code",
   "execution_count": 27,
   "id": "0108f5ea-00f7-4470-8243-bd1bcba1f8ae",
   "metadata": {},
   "outputs": [
    {
     "data": {
      "text/plain": [
       "(2, 2, 2)"
      ]
     },
     "execution_count": 27,
     "metadata": {},
     "output_type": "execute_result"
    }
   ],
   "source": [
    "d3.shape"
   ]
  },
  {
   "cell_type": "code",
   "execution_count": 29,
   "id": "f63804c8-7af1-46fb-99cb-bf6629ed552d",
   "metadata": {},
   "outputs": [
    {
     "data": {
      "text/plain": [
       "3"
      ]
     },
     "execution_count": 29,
     "metadata": {},
     "output_type": "execute_result"
    }
   ],
   "source": [
    "d3.ndim"
   ]
  },
  {
   "cell_type": "code",
   "execution_count": 30,
   "id": "8a155c29-7784-4a61-bdb9-8e4c9c213c18",
   "metadata": {},
   "outputs": [
    {
     "data": {
      "text/plain": [
       "dtype('int32')"
      ]
     },
     "execution_count": 30,
     "metadata": {},
     "output_type": "execute_result"
    }
   ],
   "source": [
    "d3.dtype"
   ]
  },
  {
   "cell_type": "code",
   "execution_count": 33,
   "id": "536e79c3-8833-4547-9e7d-3e0b9beb2a68",
   "metadata": {},
   "outputs": [],
   "source": [
    "a2 = [2,3,4]\n",
    "b2 = [2,3,4]"
   ]
  },
  {
   "cell_type": "code",
   "execution_count": 34,
   "id": "3f83311d-d5e7-4ede-b5e6-11a7b9a7a281",
   "metadata": {},
   "outputs": [
    {
     "data": {
      "text/plain": [
       "[2, 3, 4, 2, 3, 4]"
      ]
     },
     "execution_count": 34,
     "metadata": {},
     "output_type": "execute_result"
    }
   ],
   "source": [
    "result = a2 + b2\n",
    "result"
   ]
  },
  {
   "cell_type": "code",
   "execution_count": 36,
   "id": "b35420d2-d88a-42b0-bdad-657e11acfb60",
   "metadata": {},
   "outputs": [
    {
     "name": "stdout",
     "output_type": "stream",
     "text": [
      "[4 6 8]\n"
     ]
    }
   ],
   "source": [
    "result2 = np.add(a2, b2)\n",
    "print(result2)"
   ]
  },
  {
   "cell_type": "code",
   "execution_count": 38,
   "id": "b992d577-14ab-4b58-aede-8dd6366666d0",
   "metadata": {},
   "outputs": [
    {
     "name": "stdout",
     "output_type": "stream",
     "text": [
      "[[2 3 4 5]\n",
      " [6 7 8 9]]\n"
     ]
    }
   ],
   "source": [
    "arrayA =  np.array([[2,3,4,5],[6,7,8,9]])\n",
    "print(arrayA)"
   ]
  },
  {
   "cell_type": "code",
   "execution_count": 39,
   "id": "7b9a994f-1893-4cd2-a042-a8d8bc2f5de4",
   "metadata": {},
   "outputs": [
    {
     "data": {
      "text/plain": [
       "8"
      ]
     },
     "execution_count": 39,
     "metadata": {},
     "output_type": "execute_result"
    }
   ],
   "source": [
    "#array[row, colun]\n",
    "\n",
    "arrayA[1,2]"
   ]
  },
  {
   "cell_type": "code",
   "execution_count": 42,
   "id": "41391c3e-28e9-4440-af89-f21007716073",
   "metadata": {},
   "outputs": [
    {
     "name": "stdout",
     "output_type": "stream",
     "text": [
      "[2 3 4 5]\n",
      "[6 7 8 9]\n"
     ]
    }
   ],
   "source": [
    "print(arrayA[0,:])\n",
    "print(arrayA[1,:])"
   ]
  },
  {
   "cell_type": "code",
   "execution_count": 45,
   "id": "7d143286-4cb1-4253-9b81-82b11a02a3c4",
   "metadata": {},
   "outputs": [
    {
     "name": "stdout",
     "output_type": "stream",
     "text": [
      "[2 6]\n",
      "[3 7]\n",
      "[4 8]\n",
      "[5 9]\n"
     ]
    }
   ],
   "source": [
    "print(arrayA[:,0])\n",
    "print(arrayA[:,1])\n",
    "print(arrayA[:,2])\n",
    "print(arrayA[:,3])"
   ]
  }
 ],
 "metadata": {
  "kernelspec": {
   "display_name": "Python 3 (ipykernel)",
   "language": "python",
   "name": "python3"
  },
  "language_info": {
   "codemirror_mode": {
    "name": "ipython",
    "version": 3
   },
   "file_extension": ".py",
   "mimetype": "text/x-python",
   "name": "python",
   "nbconvert_exporter": "python",
   "pygments_lexer": "ipython3",
   "version": "3.9.7"
  }
 },
 "nbformat": 4,
 "nbformat_minor": 5
}
